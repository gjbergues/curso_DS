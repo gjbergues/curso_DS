{
 "cells": [
  {
   "cell_type": "markdown",
   "metadata": {},
   "source": [
    "# Finance Data Project \n",
    "\n",
    "In this data project we will focus on exploratory data analysis of stock prices. Keep in mind, this project is just meant to practice your visualization and pandas skills, it is not meant to be a robust financial analysis or be taken as financial advice.\n",
    "____\n",
    "**NOTE: This project is extremely challenging because it will introduce a lot of new concepts and have you looking things up on your own (we'll point you in the right direction) to try to solve the tasks issued. Feel free to just go through the solutions lecture notebook and video as a \"walkthrough\" project if you don't want to have to look things up yourself. You'll still learn a lot that way!**\n",
    "____\n",
    "We'll focus on bank stocks and see how they progressed throughout the [financial crisis](https://en.wikipedia.org/wiki/Financial_crisis_of_2007%E2%80%9308) all the way to early 2016."
   ]
  },
  {
   "cell_type": "markdown",
   "metadata": {},
   "source": [
    "## Get the Data\n",
    "\n",
    "In this section we will learn how to use pandas to directly read data from Google finance using pandas!\n",
    "\n",
    "First we need to start with the proper imports, which we've already laid out for you here.\n",
    "\n",
    "*Note: [You'll need to install pandas-datareader for this to work!](https://github.com/pydata/pandas-datareader) Pandas datareader allows you to [read stock information directly from the internet](http://pandas.pydata.org/pandas-docs/stable/remote_data.html) Use these links for install guidance (**pip install pandas-datareader**), or just follow along with the video lecture.*\n",
    "\n",
    "### The Imports\n",
    "\n",
    "Already filled out for you."
   ]
  },
  {
   "cell_type": "code",
   "execution_count": 1,
   "metadata": {},
   "outputs": [
    {
     "name": "stdout",
     "output_type": "stream",
     "text": [
      "Collecting package metadata (current_repodata.json): ...working... done\n",
      "Solving environment: ...working... done\n",
      "\n",
      "Note: you may need to restart the kernel to use updated packages.\n",
      "# All requested packages already installed.\n",
      "\n",
      "\n"
     ]
    }
   ],
   "source": [
    "conda install -c https://conda.anaconda.org/anaconda pandas-datareader"
   ]
  },
  {
   "cell_type": "code",
   "execution_count": 2,
   "metadata": {},
   "outputs": [],
   "source": [
    "import pandas as pd\n",
    "pd.core.common.is_list_like = pd.api.types.is_list_like\n",
    "from pandas_datareader import data, wb\n",
    "import numpy as np\n",
    "import datetime\n",
    "%matplotlib inline\n",
    "import warnings\n",
    "warnings.filterwarnings('ignore')"
   ]
  },
  {
   "cell_type": "markdown",
   "metadata": {},
   "source": [
    "## Data\n",
    "\n",
    "We need to get data using pandas datareader. We will get stock information for the following banks:\n",
    "*  Bank of America\n",
    "* CitiGroup\n",
    "* Goldman Sachs\n",
    "* JPMorgan Chase\n",
    "* Morgan Stanley\n",
    "* Wells Fargo\n",
    "\n",
    "**Figure out how to get the stock data from Jan 1st 2006 to Jan 1st 2016 for each of these banks. Set each bank to be a separate dataframe, with the variable name for that bank being its ticker symbol. This will involve a few steps:**\n",
    "1. Use datetime to set start and end datetime objects.\n",
    "2. Figure out the ticker symbol for each bank.\n",
    "2. Figure out how to use datareader to grab info on the stock.\n",
    "\n",
    "**Use [this documentation page](https://pandas-datareader.readthedocs.io/en/latest/remote_data.html) for hints and instructions (it should just be a matter of replacing certain values. Use google finance as a source, for example:**\n",
    "    \n",
    "    # Bank of America\n",
    "    BAC = data.DataReader(\"BAC\", 'google', start, end)\n",
    "\n",
    "### We also provide pickle file in the article lecture right before the video lectures."
   ]
  },
  {
   "cell_type": "code",
   "execution_count": 3,
   "metadata": {
    "jupyter": {
     "outputs_hidden": true
    }
   },
   "outputs": [],
   "source": [
    "# Read the date the alternative way\n",
    "df = pd.read_pickle(r'C:\\Users\\gjber\\Documents\\Git\\curso_DS\\Data\\all_banks')\n",
    "#df = pd.read_pickle(\"/home/gjbergues/Git/curso_DS/Data/all_banks\")"
   ]
  },
  {
   "cell_type": "code",
   "execution_count": 4,
   "metadata": {},
   "outputs": [],
   "source": [
    "#Bank of America\n",
    "BAC = df['BAC']\n",
    "#CitiGroup\n",
    "C = df['C']\n",
    "#Goldman Sachs\n",
    "GS = df['GS']\n",
    "#JPMorgan Chase\n",
    "JPM = df ['JPM']\n",
    "#Morgan Stanley\n",
    "MS = df['MS']\n",
    "#Wells Fargo\n",
    "WFC = df['WFC']"
   ]
  },
  {
   "cell_type": "code",
   "execution_count": 5,
   "metadata": {},
   "outputs": [
    {
     "data": {
      "text/html": [
       "<div>\n",
       "<style scoped>\n",
       "    .dataframe tbody tr th:only-of-type {\n",
       "        vertical-align: middle;\n",
       "    }\n",
       "\n",
       "    .dataframe tbody tr th {\n",
       "        vertical-align: top;\n",
       "    }\n",
       "\n",
       "    .dataframe thead tr th {\n",
       "        text-align: left;\n",
       "    }\n",
       "\n",
       "    .dataframe thead tr:last-of-type th {\n",
       "        text-align: right;\n",
       "    }\n",
       "</style>\n",
       "<table border=\"1\" class=\"dataframe\">\n",
       "  <thead>\n",
       "    <tr>\n",
       "      <th>Bank Ticker</th>\n",
       "      <th colspan=\"5\" halign=\"left\">BAC</th>\n",
       "      <th colspan=\"5\" halign=\"left\">C</th>\n",
       "      <th>...</th>\n",
       "      <th colspan=\"5\" halign=\"left\">MS</th>\n",
       "      <th colspan=\"5\" halign=\"left\">WFC</th>\n",
       "    </tr>\n",
       "    <tr>\n",
       "      <th>Stock Info</th>\n",
       "      <th>Open</th>\n",
       "      <th>High</th>\n",
       "      <th>Low</th>\n",
       "      <th>Close</th>\n",
       "      <th>Volume</th>\n",
       "      <th>Open</th>\n",
       "      <th>High</th>\n",
       "      <th>Low</th>\n",
       "      <th>Close</th>\n",
       "      <th>Volume</th>\n",
       "      <th>...</th>\n",
       "      <th>Open</th>\n",
       "      <th>High</th>\n",
       "      <th>Low</th>\n",
       "      <th>Close</th>\n",
       "      <th>Volume</th>\n",
       "      <th>Open</th>\n",
       "      <th>High</th>\n",
       "      <th>Low</th>\n",
       "      <th>Close</th>\n",
       "      <th>Volume</th>\n",
       "    </tr>\n",
       "    <tr>\n",
       "      <th>Date</th>\n",
       "      <th></th>\n",
       "      <th></th>\n",
       "      <th></th>\n",
       "      <th></th>\n",
       "      <th></th>\n",
       "      <th></th>\n",
       "      <th></th>\n",
       "      <th></th>\n",
       "      <th></th>\n",
       "      <th></th>\n",
       "      <th></th>\n",
       "      <th></th>\n",
       "      <th></th>\n",
       "      <th></th>\n",
       "      <th></th>\n",
       "      <th></th>\n",
       "      <th></th>\n",
       "      <th></th>\n",
       "      <th></th>\n",
       "      <th></th>\n",
       "      <th></th>\n",
       "    </tr>\n",
       "  </thead>\n",
       "  <tbody>\n",
       "    <tr>\n",
       "      <th>2006-01-03</th>\n",
       "      <td>46.92</td>\n",
       "      <td>47.18</td>\n",
       "      <td>46.15</td>\n",
       "      <td>47.08</td>\n",
       "      <td>16296700</td>\n",
       "      <td>490.0</td>\n",
       "      <td>493.8</td>\n",
       "      <td>481.1</td>\n",
       "      <td>492.9</td>\n",
       "      <td>1537660</td>\n",
       "      <td>...</td>\n",
       "      <td>57.17</td>\n",
       "      <td>58.49</td>\n",
       "      <td>56.74</td>\n",
       "      <td>58.31</td>\n",
       "      <td>5377000</td>\n",
       "      <td>31.60</td>\n",
       "      <td>31.98</td>\n",
       "      <td>31.20</td>\n",
       "      <td>31.90</td>\n",
       "      <td>11016400</td>\n",
       "    </tr>\n",
       "    <tr>\n",
       "      <th>2006-01-04</th>\n",
       "      <td>47.00</td>\n",
       "      <td>47.24</td>\n",
       "      <td>46.45</td>\n",
       "      <td>46.58</td>\n",
       "      <td>17757900</td>\n",
       "      <td>488.6</td>\n",
       "      <td>491.0</td>\n",
       "      <td>483.5</td>\n",
       "      <td>483.8</td>\n",
       "      <td>1871020</td>\n",
       "      <td>...</td>\n",
       "      <td>58.70</td>\n",
       "      <td>59.28</td>\n",
       "      <td>58.35</td>\n",
       "      <td>58.35</td>\n",
       "      <td>7977800</td>\n",
       "      <td>31.80</td>\n",
       "      <td>31.82</td>\n",
       "      <td>31.36</td>\n",
       "      <td>31.53</td>\n",
       "      <td>10871000</td>\n",
       "    </tr>\n",
       "    <tr>\n",
       "      <th>2006-01-05</th>\n",
       "      <td>46.58</td>\n",
       "      <td>46.83</td>\n",
       "      <td>46.32</td>\n",
       "      <td>46.64</td>\n",
       "      <td>14970900</td>\n",
       "      <td>484.4</td>\n",
       "      <td>487.8</td>\n",
       "      <td>484.0</td>\n",
       "      <td>486.2</td>\n",
       "      <td>1143160</td>\n",
       "      <td>...</td>\n",
       "      <td>58.55</td>\n",
       "      <td>58.59</td>\n",
       "      <td>58.02</td>\n",
       "      <td>58.51</td>\n",
       "      <td>5778000</td>\n",
       "      <td>31.50</td>\n",
       "      <td>31.56</td>\n",
       "      <td>31.31</td>\n",
       "      <td>31.50</td>\n",
       "      <td>10158000</td>\n",
       "    </tr>\n",
       "    <tr>\n",
       "      <th>2006-01-06</th>\n",
       "      <td>46.80</td>\n",
       "      <td>46.91</td>\n",
       "      <td>46.35</td>\n",
       "      <td>46.57</td>\n",
       "      <td>12599800</td>\n",
       "      <td>488.8</td>\n",
       "      <td>489.0</td>\n",
       "      <td>482.0</td>\n",
       "      <td>486.2</td>\n",
       "      <td>1370250</td>\n",
       "      <td>...</td>\n",
       "      <td>58.77</td>\n",
       "      <td>58.85</td>\n",
       "      <td>58.05</td>\n",
       "      <td>58.57</td>\n",
       "      <td>6889800</td>\n",
       "      <td>31.58</td>\n",
       "      <td>31.78</td>\n",
       "      <td>31.38</td>\n",
       "      <td>31.68</td>\n",
       "      <td>8403800</td>\n",
       "    </tr>\n",
       "    <tr>\n",
       "      <th>2006-01-09</th>\n",
       "      <td>46.72</td>\n",
       "      <td>46.97</td>\n",
       "      <td>46.36</td>\n",
       "      <td>46.60</td>\n",
       "      <td>15620000</td>\n",
       "      <td>486.0</td>\n",
       "      <td>487.4</td>\n",
       "      <td>483.0</td>\n",
       "      <td>483.9</td>\n",
       "      <td>1680740</td>\n",
       "      <td>...</td>\n",
       "      <td>58.63</td>\n",
       "      <td>59.29</td>\n",
       "      <td>58.62</td>\n",
       "      <td>59.19</td>\n",
       "      <td>4144500</td>\n",
       "      <td>31.68</td>\n",
       "      <td>31.82</td>\n",
       "      <td>31.56</td>\n",
       "      <td>31.68</td>\n",
       "      <td>5619600</td>\n",
       "    </tr>\n",
       "  </tbody>\n",
       "</table>\n",
       "<p>5 rows × 30 columns</p>\n",
       "</div>"
      ],
      "text/plain": [
       "Bank Ticker    BAC                                     C                       \\\n",
       "Stock Info    Open   High    Low  Close    Volume   Open   High    Low  Close   \n",
       "Date                                                                            \n",
       "2006-01-03   46.92  47.18  46.15  47.08  16296700  490.0  493.8  481.1  492.9   \n",
       "2006-01-04   47.00  47.24  46.45  46.58  17757900  488.6  491.0  483.5  483.8   \n",
       "2006-01-05   46.58  46.83  46.32  46.64  14970900  484.4  487.8  484.0  486.2   \n",
       "2006-01-06   46.80  46.91  46.35  46.57  12599800  488.8  489.0  482.0  486.2   \n",
       "2006-01-09   46.72  46.97  46.36  46.60  15620000  486.0  487.4  483.0  483.9   \n",
       "\n",
       "Bank Ticker           ...     MS                                  WFC         \\\n",
       "Stock Info    Volume  ...   Open   High    Low  Close   Volume   Open   High   \n",
       "Date                  ...                                                      \n",
       "2006-01-03   1537660  ...  57.17  58.49  56.74  58.31  5377000  31.60  31.98   \n",
       "2006-01-04   1871020  ...  58.70  59.28  58.35  58.35  7977800  31.80  31.82   \n",
       "2006-01-05   1143160  ...  58.55  58.59  58.02  58.51  5778000  31.50  31.56   \n",
       "2006-01-06   1370250  ...  58.77  58.85  58.05  58.57  6889800  31.58  31.78   \n",
       "2006-01-09   1680740  ...  58.63  59.29  58.62  59.19  4144500  31.68  31.82   \n",
       "\n",
       "Bank Ticker                          \n",
       "Stock Info     Low  Close    Volume  \n",
       "Date                                 \n",
       "2006-01-03   31.20  31.90  11016400  \n",
       "2006-01-04   31.36  31.53  10871000  \n",
       "2006-01-05   31.31  31.50  10158000  \n",
       "2006-01-06   31.38  31.68   8403800  \n",
       "2006-01-09   31.56  31.68   5619600  \n",
       "\n",
       "[5 rows x 30 columns]"
      ]
     },
     "execution_count": 5,
     "metadata": {},
     "output_type": "execute_result"
    }
   ],
   "source": [
    "df.head()"
   ]
  },
  {
   "cell_type": "markdown",
   "metadata": {},
   "source": [
    "**Create a list of the ticker symbols (as strings) in alphabetical order. Call this list: tickers**"
   ]
  },
  {
   "cell_type": "code",
   "execution_count": 6,
   "metadata": {},
   "outputs": [],
   "source": [
    "tickers = ['BAC', 'C', 'GS', 'JPM', 'MS', 'WFC']"
   ]
  },
  {
   "cell_type": "markdown",
   "metadata": {},
   "source": [
    "**Use pd.concat to concatenate the bank dataframes together to a single data frame called bank_stocks. Set the keys argument equal to the tickers list. Also pay attention to what axis you concatenate on.**"
   ]
  },
  {
   "cell_type": "code",
   "execution_count": 7,
   "metadata": {},
   "outputs": [],
   "source": [
    "bank_stocks = pd.concat([BAC, C, GS, JPM, MS, WFC],axis=1,keys=tickers)"
   ]
  },
  {
   "cell_type": "code",
   "execution_count": 8,
   "metadata": {},
   "outputs": [
    {
     "data": {
      "text/html": [
       "<div>\n",
       "<style scoped>\n",
       "    .dataframe tbody tr th:only-of-type {\n",
       "        vertical-align: middle;\n",
       "    }\n",
       "\n",
       "    .dataframe tbody tr th {\n",
       "        vertical-align: top;\n",
       "    }\n",
       "\n",
       "    .dataframe thead tr th {\n",
       "        text-align: left;\n",
       "    }\n",
       "\n",
       "    .dataframe thead tr:last-of-type th {\n",
       "        text-align: right;\n",
       "    }\n",
       "</style>\n",
       "<table border=\"1\" class=\"dataframe\">\n",
       "  <thead>\n",
       "    <tr>\n",
       "      <th></th>\n",
       "      <th colspan=\"5\" halign=\"left\">BAC</th>\n",
       "      <th colspan=\"5\" halign=\"left\">C</th>\n",
       "      <th>...</th>\n",
       "      <th colspan=\"5\" halign=\"left\">MS</th>\n",
       "      <th colspan=\"5\" halign=\"left\">WFC</th>\n",
       "    </tr>\n",
       "    <tr>\n",
       "      <th>Stock Info</th>\n",
       "      <th>Open</th>\n",
       "      <th>High</th>\n",
       "      <th>Low</th>\n",
       "      <th>Close</th>\n",
       "      <th>Volume</th>\n",
       "      <th>Open</th>\n",
       "      <th>High</th>\n",
       "      <th>Low</th>\n",
       "      <th>Close</th>\n",
       "      <th>Volume</th>\n",
       "      <th>...</th>\n",
       "      <th>Open</th>\n",
       "      <th>High</th>\n",
       "      <th>Low</th>\n",
       "      <th>Close</th>\n",
       "      <th>Volume</th>\n",
       "      <th>Open</th>\n",
       "      <th>High</th>\n",
       "      <th>Low</th>\n",
       "      <th>Close</th>\n",
       "      <th>Volume</th>\n",
       "    </tr>\n",
       "    <tr>\n",
       "      <th>Date</th>\n",
       "      <th></th>\n",
       "      <th></th>\n",
       "      <th></th>\n",
       "      <th></th>\n",
       "      <th></th>\n",
       "      <th></th>\n",
       "      <th></th>\n",
       "      <th></th>\n",
       "      <th></th>\n",
       "      <th></th>\n",
       "      <th></th>\n",
       "      <th></th>\n",
       "      <th></th>\n",
       "      <th></th>\n",
       "      <th></th>\n",
       "      <th></th>\n",
       "      <th></th>\n",
       "      <th></th>\n",
       "      <th></th>\n",
       "      <th></th>\n",
       "      <th></th>\n",
       "    </tr>\n",
       "  </thead>\n",
       "  <tbody>\n",
       "    <tr>\n",
       "      <th>2006-01-03</th>\n",
       "      <td>46.92</td>\n",
       "      <td>47.18</td>\n",
       "      <td>46.15</td>\n",
       "      <td>47.08</td>\n",
       "      <td>16296700</td>\n",
       "      <td>490.0</td>\n",
       "      <td>493.8</td>\n",
       "      <td>481.1</td>\n",
       "      <td>492.9</td>\n",
       "      <td>1537660</td>\n",
       "      <td>...</td>\n",
       "      <td>57.17</td>\n",
       "      <td>58.49</td>\n",
       "      <td>56.74</td>\n",
       "      <td>58.31</td>\n",
       "      <td>5377000</td>\n",
       "      <td>31.60</td>\n",
       "      <td>31.98</td>\n",
       "      <td>31.20</td>\n",
       "      <td>31.90</td>\n",
       "      <td>11016400</td>\n",
       "    </tr>\n",
       "    <tr>\n",
       "      <th>2006-01-04</th>\n",
       "      <td>47.00</td>\n",
       "      <td>47.24</td>\n",
       "      <td>46.45</td>\n",
       "      <td>46.58</td>\n",
       "      <td>17757900</td>\n",
       "      <td>488.6</td>\n",
       "      <td>491.0</td>\n",
       "      <td>483.5</td>\n",
       "      <td>483.8</td>\n",
       "      <td>1871020</td>\n",
       "      <td>...</td>\n",
       "      <td>58.70</td>\n",
       "      <td>59.28</td>\n",
       "      <td>58.35</td>\n",
       "      <td>58.35</td>\n",
       "      <td>7977800</td>\n",
       "      <td>31.80</td>\n",
       "      <td>31.82</td>\n",
       "      <td>31.36</td>\n",
       "      <td>31.53</td>\n",
       "      <td>10871000</td>\n",
       "    </tr>\n",
       "    <tr>\n",
       "      <th>2006-01-05</th>\n",
       "      <td>46.58</td>\n",
       "      <td>46.83</td>\n",
       "      <td>46.32</td>\n",
       "      <td>46.64</td>\n",
       "      <td>14970900</td>\n",
       "      <td>484.4</td>\n",
       "      <td>487.8</td>\n",
       "      <td>484.0</td>\n",
       "      <td>486.2</td>\n",
       "      <td>1143160</td>\n",
       "      <td>...</td>\n",
       "      <td>58.55</td>\n",
       "      <td>58.59</td>\n",
       "      <td>58.02</td>\n",
       "      <td>58.51</td>\n",
       "      <td>5778000</td>\n",
       "      <td>31.50</td>\n",
       "      <td>31.56</td>\n",
       "      <td>31.31</td>\n",
       "      <td>31.50</td>\n",
       "      <td>10158000</td>\n",
       "    </tr>\n",
       "    <tr>\n",
       "      <th>2006-01-06</th>\n",
       "      <td>46.80</td>\n",
       "      <td>46.91</td>\n",
       "      <td>46.35</td>\n",
       "      <td>46.57</td>\n",
       "      <td>12599800</td>\n",
       "      <td>488.8</td>\n",
       "      <td>489.0</td>\n",
       "      <td>482.0</td>\n",
       "      <td>486.2</td>\n",
       "      <td>1370250</td>\n",
       "      <td>...</td>\n",
       "      <td>58.77</td>\n",
       "      <td>58.85</td>\n",
       "      <td>58.05</td>\n",
       "      <td>58.57</td>\n",
       "      <td>6889800</td>\n",
       "      <td>31.58</td>\n",
       "      <td>31.78</td>\n",
       "      <td>31.38</td>\n",
       "      <td>31.68</td>\n",
       "      <td>8403800</td>\n",
       "    </tr>\n",
       "    <tr>\n",
       "      <th>2006-01-09</th>\n",
       "      <td>46.72</td>\n",
       "      <td>46.97</td>\n",
       "      <td>46.36</td>\n",
       "      <td>46.60</td>\n",
       "      <td>15620000</td>\n",
       "      <td>486.0</td>\n",
       "      <td>487.4</td>\n",
       "      <td>483.0</td>\n",
       "      <td>483.9</td>\n",
       "      <td>1680740</td>\n",
       "      <td>...</td>\n",
       "      <td>58.63</td>\n",
       "      <td>59.29</td>\n",
       "      <td>58.62</td>\n",
       "      <td>59.19</td>\n",
       "      <td>4144500</td>\n",
       "      <td>31.68</td>\n",
       "      <td>31.82</td>\n",
       "      <td>31.56</td>\n",
       "      <td>31.68</td>\n",
       "      <td>5619600</td>\n",
       "    </tr>\n",
       "  </tbody>\n",
       "</table>\n",
       "<p>5 rows × 30 columns</p>\n",
       "</div>"
      ],
      "text/plain": [
       "              BAC                                     C                       \\\n",
       "Stock Info   Open   High    Low  Close    Volume   Open   High    Low  Close   \n",
       "Date                                                                           \n",
       "2006-01-03  46.92  47.18  46.15  47.08  16296700  490.0  493.8  481.1  492.9   \n",
       "2006-01-04  47.00  47.24  46.45  46.58  17757900  488.6  491.0  483.5  483.8   \n",
       "2006-01-05  46.58  46.83  46.32  46.64  14970900  484.4  487.8  484.0  486.2   \n",
       "2006-01-06  46.80  46.91  46.35  46.57  12599800  488.8  489.0  482.0  486.2   \n",
       "2006-01-09  46.72  46.97  46.36  46.60  15620000  486.0  487.4  483.0  483.9   \n",
       "\n",
       "                     ...     MS                                  WFC         \\\n",
       "Stock Info   Volume  ...   Open   High    Low  Close   Volume   Open   High   \n",
       "Date                 ...                                                      \n",
       "2006-01-03  1537660  ...  57.17  58.49  56.74  58.31  5377000  31.60  31.98   \n",
       "2006-01-04  1871020  ...  58.70  59.28  58.35  58.35  7977800  31.80  31.82   \n",
       "2006-01-05  1143160  ...  58.55  58.59  58.02  58.51  5778000  31.50  31.56   \n",
       "2006-01-06  1370250  ...  58.77  58.85  58.05  58.57  6889800  31.58  31.78   \n",
       "2006-01-09  1680740  ...  58.63  59.29  58.62  59.19  4144500  31.68  31.82   \n",
       "\n",
       "                                    \n",
       "Stock Info    Low  Close    Volume  \n",
       "Date                                \n",
       "2006-01-03  31.20  31.90  11016400  \n",
       "2006-01-04  31.36  31.53  10871000  \n",
       "2006-01-05  31.31  31.50  10158000  \n",
       "2006-01-06  31.38  31.68   8403800  \n",
       "2006-01-09  31.56  31.68   5619600  \n",
       "\n",
       "[5 rows x 30 columns]"
      ]
     },
     "execution_count": 8,
     "metadata": {},
     "output_type": "execute_result"
    }
   ],
   "source": [
    "bank_stocks.head()"
   ]
  },
  {
   "cell_type": "markdown",
   "metadata": {},
   "source": [
    "**Set the column name levels (this is filled out for you):**"
   ]
  },
  {
   "cell_type": "code",
   "execution_count": 9,
   "metadata": {},
   "outputs": [],
   "source": [
    "bank_stocks.columns.names = ['Bank Ticker','Stock Info']"
   ]
  },
  {
   "cell_type": "code",
   "execution_count": 10,
   "metadata": {},
   "outputs": [
    {
     "data": {
      "text/html": [
       "<div>\n",
       "<style scoped>\n",
       "    .dataframe tbody tr th:only-of-type {\n",
       "        vertical-align: middle;\n",
       "    }\n",
       "\n",
       "    .dataframe tbody tr th {\n",
       "        vertical-align: top;\n",
       "    }\n",
       "\n",
       "    .dataframe thead tr th {\n",
       "        text-align: left;\n",
       "    }\n",
       "\n",
       "    .dataframe thead tr:last-of-type th {\n",
       "        text-align: right;\n",
       "    }\n",
       "</style>\n",
       "<table border=\"1\" class=\"dataframe\">\n",
       "  <thead>\n",
       "    <tr>\n",
       "      <th>Bank Ticker</th>\n",
       "      <th colspan=\"5\" halign=\"left\">BAC</th>\n",
       "      <th colspan=\"5\" halign=\"left\">C</th>\n",
       "      <th>...</th>\n",
       "      <th colspan=\"5\" halign=\"left\">MS</th>\n",
       "      <th colspan=\"5\" halign=\"left\">WFC</th>\n",
       "    </tr>\n",
       "    <tr>\n",
       "      <th>Stock Info</th>\n",
       "      <th>Open</th>\n",
       "      <th>High</th>\n",
       "      <th>Low</th>\n",
       "      <th>Close</th>\n",
       "      <th>Volume</th>\n",
       "      <th>Open</th>\n",
       "      <th>High</th>\n",
       "      <th>Low</th>\n",
       "      <th>Close</th>\n",
       "      <th>Volume</th>\n",
       "      <th>...</th>\n",
       "      <th>Open</th>\n",
       "      <th>High</th>\n",
       "      <th>Low</th>\n",
       "      <th>Close</th>\n",
       "      <th>Volume</th>\n",
       "      <th>Open</th>\n",
       "      <th>High</th>\n",
       "      <th>Low</th>\n",
       "      <th>Close</th>\n",
       "      <th>Volume</th>\n",
       "    </tr>\n",
       "    <tr>\n",
       "      <th>Date</th>\n",
       "      <th></th>\n",
       "      <th></th>\n",
       "      <th></th>\n",
       "      <th></th>\n",
       "      <th></th>\n",
       "      <th></th>\n",
       "      <th></th>\n",
       "      <th></th>\n",
       "      <th></th>\n",
       "      <th></th>\n",
       "      <th></th>\n",
       "      <th></th>\n",
       "      <th></th>\n",
       "      <th></th>\n",
       "      <th></th>\n",
       "      <th></th>\n",
       "      <th></th>\n",
       "      <th></th>\n",
       "      <th></th>\n",
       "      <th></th>\n",
       "      <th></th>\n",
       "    </tr>\n",
       "  </thead>\n",
       "  <tbody>\n",
       "    <tr>\n",
       "      <th>2006-01-03</th>\n",
       "      <td>46.92</td>\n",
       "      <td>47.18</td>\n",
       "      <td>46.15</td>\n",
       "      <td>47.08</td>\n",
       "      <td>16296700</td>\n",
       "      <td>490.0</td>\n",
       "      <td>493.8</td>\n",
       "      <td>481.1</td>\n",
       "      <td>492.9</td>\n",
       "      <td>1537660</td>\n",
       "      <td>...</td>\n",
       "      <td>57.17</td>\n",
       "      <td>58.49</td>\n",
       "      <td>56.74</td>\n",
       "      <td>58.31</td>\n",
       "      <td>5377000</td>\n",
       "      <td>31.60</td>\n",
       "      <td>31.98</td>\n",
       "      <td>31.20</td>\n",
       "      <td>31.90</td>\n",
       "      <td>11016400</td>\n",
       "    </tr>\n",
       "    <tr>\n",
       "      <th>2006-01-04</th>\n",
       "      <td>47.00</td>\n",
       "      <td>47.24</td>\n",
       "      <td>46.45</td>\n",
       "      <td>46.58</td>\n",
       "      <td>17757900</td>\n",
       "      <td>488.6</td>\n",
       "      <td>491.0</td>\n",
       "      <td>483.5</td>\n",
       "      <td>483.8</td>\n",
       "      <td>1871020</td>\n",
       "      <td>...</td>\n",
       "      <td>58.70</td>\n",
       "      <td>59.28</td>\n",
       "      <td>58.35</td>\n",
       "      <td>58.35</td>\n",
       "      <td>7977800</td>\n",
       "      <td>31.80</td>\n",
       "      <td>31.82</td>\n",
       "      <td>31.36</td>\n",
       "      <td>31.53</td>\n",
       "      <td>10871000</td>\n",
       "    </tr>\n",
       "    <tr>\n",
       "      <th>2006-01-05</th>\n",
       "      <td>46.58</td>\n",
       "      <td>46.83</td>\n",
       "      <td>46.32</td>\n",
       "      <td>46.64</td>\n",
       "      <td>14970900</td>\n",
       "      <td>484.4</td>\n",
       "      <td>487.8</td>\n",
       "      <td>484.0</td>\n",
       "      <td>486.2</td>\n",
       "      <td>1143160</td>\n",
       "      <td>...</td>\n",
       "      <td>58.55</td>\n",
       "      <td>58.59</td>\n",
       "      <td>58.02</td>\n",
       "      <td>58.51</td>\n",
       "      <td>5778000</td>\n",
       "      <td>31.50</td>\n",
       "      <td>31.56</td>\n",
       "      <td>31.31</td>\n",
       "      <td>31.50</td>\n",
       "      <td>10158000</td>\n",
       "    </tr>\n",
       "    <tr>\n",
       "      <th>2006-01-06</th>\n",
       "      <td>46.80</td>\n",
       "      <td>46.91</td>\n",
       "      <td>46.35</td>\n",
       "      <td>46.57</td>\n",
       "      <td>12599800</td>\n",
       "      <td>488.8</td>\n",
       "      <td>489.0</td>\n",
       "      <td>482.0</td>\n",
       "      <td>486.2</td>\n",
       "      <td>1370250</td>\n",
       "      <td>...</td>\n",
       "      <td>58.77</td>\n",
       "      <td>58.85</td>\n",
       "      <td>58.05</td>\n",
       "      <td>58.57</td>\n",
       "      <td>6889800</td>\n",
       "      <td>31.58</td>\n",
       "      <td>31.78</td>\n",
       "      <td>31.38</td>\n",
       "      <td>31.68</td>\n",
       "      <td>8403800</td>\n",
       "    </tr>\n",
       "    <tr>\n",
       "      <th>2006-01-09</th>\n",
       "      <td>46.72</td>\n",
       "      <td>46.97</td>\n",
       "      <td>46.36</td>\n",
       "      <td>46.60</td>\n",
       "      <td>15620000</td>\n",
       "      <td>486.0</td>\n",
       "      <td>487.4</td>\n",
       "      <td>483.0</td>\n",
       "      <td>483.9</td>\n",
       "      <td>1680740</td>\n",
       "      <td>...</td>\n",
       "      <td>58.63</td>\n",
       "      <td>59.29</td>\n",
       "      <td>58.62</td>\n",
       "      <td>59.19</td>\n",
       "      <td>4144500</td>\n",
       "      <td>31.68</td>\n",
       "      <td>31.82</td>\n",
       "      <td>31.56</td>\n",
       "      <td>31.68</td>\n",
       "      <td>5619600</td>\n",
       "    </tr>\n",
       "  </tbody>\n",
       "</table>\n",
       "<p>5 rows × 30 columns</p>\n",
       "</div>"
      ],
      "text/plain": [
       "Bank Ticker    BAC                                     C                       \\\n",
       "Stock Info    Open   High    Low  Close    Volume   Open   High    Low  Close   \n",
       "Date                                                                            \n",
       "2006-01-03   46.92  47.18  46.15  47.08  16296700  490.0  493.8  481.1  492.9   \n",
       "2006-01-04   47.00  47.24  46.45  46.58  17757900  488.6  491.0  483.5  483.8   \n",
       "2006-01-05   46.58  46.83  46.32  46.64  14970900  484.4  487.8  484.0  486.2   \n",
       "2006-01-06   46.80  46.91  46.35  46.57  12599800  488.8  489.0  482.0  486.2   \n",
       "2006-01-09   46.72  46.97  46.36  46.60  15620000  486.0  487.4  483.0  483.9   \n",
       "\n",
       "Bank Ticker           ...     MS                                  WFC         \\\n",
       "Stock Info    Volume  ...   Open   High    Low  Close   Volume   Open   High   \n",
       "Date                  ...                                                      \n",
       "2006-01-03   1537660  ...  57.17  58.49  56.74  58.31  5377000  31.60  31.98   \n",
       "2006-01-04   1871020  ...  58.70  59.28  58.35  58.35  7977800  31.80  31.82   \n",
       "2006-01-05   1143160  ...  58.55  58.59  58.02  58.51  5778000  31.50  31.56   \n",
       "2006-01-06   1370250  ...  58.77  58.85  58.05  58.57  6889800  31.58  31.78   \n",
       "2006-01-09   1680740  ...  58.63  59.29  58.62  59.19  4144500  31.68  31.82   \n",
       "\n",
       "Bank Ticker                          \n",
       "Stock Info     Low  Close    Volume  \n",
       "Date                                 \n",
       "2006-01-03   31.20  31.90  11016400  \n",
       "2006-01-04   31.36  31.53  10871000  \n",
       "2006-01-05   31.31  31.50  10158000  \n",
       "2006-01-06   31.38  31.68   8403800  \n",
       "2006-01-09   31.56  31.68   5619600  \n",
       "\n",
       "[5 rows x 30 columns]"
      ]
     },
     "execution_count": 10,
     "metadata": {},
     "output_type": "execute_result"
    }
   ],
   "source": [
    "bank_stocks.head()"
   ]
  },
  {
   "cell_type": "markdown",
   "metadata": {},
   "source": [
    "# EDA\n",
    "\n",
    "Let's explore the data a bit! Before continuing, I encourage you to check out the documentation on [Multi-Level Indexing](http://pandas.pydata.org/pandas-docs/stable/advanced.html) and [Using .xs](http://pandas.pydata.org/pandas-docs/stable/generated/pandas.DataFrame.xs.html).\n",
    "Reference the solutions if you can not figure out how to use .xs(), since that will be a major part of this project.\n",
    "\n",
    "**What is the max Close price for each bank's stock throughout the time period?**"
   ]
  },
  {
   "cell_type": "code",
   "execution_count": 11,
   "metadata": {},
   "outputs": [
    {
     "data": {
      "text/plain": [
       "Bank Ticker\n",
       "BAC     54.90\n",
       "C      564.10\n",
       "GS     247.92\n",
       "JPM     70.08\n",
       "MS      89.30\n",
       "WFC     58.52\n",
       "dtype: float64"
      ]
     },
     "execution_count": 11,
     "metadata": {},
     "output_type": "execute_result"
    }
   ],
   "source": [
    "#This method takes a key argument to select data at a particular level of a MultiIndex.\n",
    "bank_stocks.xs(key='Close',axis=1,level='Stock Info').max()"
   ]
  },
  {
   "cell_type": "markdown",
   "metadata": {},
   "source": [
    "**Create a new empty DataFrame called returns. This dataframe will contain the returns for each bank's stock. returns are typically defined by:**\n",
    "\n",
    "$$r_t = \\frac{p_t - p_{t-1}}{p_{t-1}} = \\frac{p_t}{p_{t-1}} - 1$$"
   ]
  },
  {
   "cell_type": "code",
   "execution_count": 12,
   "metadata": {
    "jupyter": {
     "outputs_hidden": true
    }
   },
   "outputs": [],
   "source": [
    "returns = pd.DataFrame()"
   ]
  },
  {
   "cell_type": "markdown",
   "metadata": {},
   "source": [
    "** We can use pandas pct_change() method on the Close column to create a column representing this return value. Create a for loop that goes and for each Bank Stock Ticker creates this returns column and set's it as a column in the returns DataFrame.**"
   ]
  },
  {
   "cell_type": "code",
   "execution_count": 13,
   "metadata": {},
   "outputs": [
    {
     "data": {
      "text/html": [
       "<div>\n",
       "<style scoped>\n",
       "    .dataframe tbody tr th:only-of-type {\n",
       "        vertical-align: middle;\n",
       "    }\n",
       "\n",
       "    .dataframe tbody tr th {\n",
       "        vertical-align: top;\n",
       "    }\n",
       "\n",
       "    .dataframe thead th {\n",
       "        text-align: right;\n",
       "    }\n",
       "</style>\n",
       "<table border=\"1\" class=\"dataframe\">\n",
       "  <thead>\n",
       "    <tr style=\"text-align: right;\">\n",
       "      <th></th>\n",
       "      <th>BAC Return</th>\n",
       "      <th>C Return</th>\n",
       "      <th>GS Return</th>\n",
       "      <th>JPM Return</th>\n",
       "      <th>MS Return</th>\n",
       "      <th>WFC Return</th>\n",
       "    </tr>\n",
       "    <tr>\n",
       "      <th>Date</th>\n",
       "      <th></th>\n",
       "      <th></th>\n",
       "      <th></th>\n",
       "      <th></th>\n",
       "      <th></th>\n",
       "      <th></th>\n",
       "    </tr>\n",
       "  </thead>\n",
       "  <tbody>\n",
       "    <tr>\n",
       "      <th>2006-01-03</th>\n",
       "      <td>NaN</td>\n",
       "      <td>NaN</td>\n",
       "      <td>NaN</td>\n",
       "      <td>NaN</td>\n",
       "      <td>NaN</td>\n",
       "      <td>NaN</td>\n",
       "    </tr>\n",
       "    <tr>\n",
       "      <th>2006-01-04</th>\n",
       "      <td>-0.010620</td>\n",
       "      <td>-0.018462</td>\n",
       "      <td>-0.013812</td>\n",
       "      <td>-0.014183</td>\n",
       "      <td>0.000686</td>\n",
       "      <td>-0.011599</td>\n",
       "    </tr>\n",
       "    <tr>\n",
       "      <th>2006-01-05</th>\n",
       "      <td>0.001288</td>\n",
       "      <td>0.004961</td>\n",
       "      <td>-0.000393</td>\n",
       "      <td>0.003029</td>\n",
       "      <td>0.002742</td>\n",
       "      <td>-0.000951</td>\n",
       "    </tr>\n",
       "    <tr>\n",
       "      <th>2006-01-06</th>\n",
       "      <td>-0.001501</td>\n",
       "      <td>0.000000</td>\n",
       "      <td>0.014169</td>\n",
       "      <td>0.007046</td>\n",
       "      <td>0.001025</td>\n",
       "      <td>0.005714</td>\n",
       "    </tr>\n",
       "    <tr>\n",
       "      <th>2006-01-09</th>\n",
       "      <td>0.000644</td>\n",
       "      <td>-0.004731</td>\n",
       "      <td>0.012030</td>\n",
       "      <td>0.016242</td>\n",
       "      <td>0.010586</td>\n",
       "      <td>0.000000</td>\n",
       "    </tr>\n",
       "  </tbody>\n",
       "</table>\n",
       "</div>"
      ],
      "text/plain": [
       "            BAC Return  C Return  GS Return  JPM Return  MS Return  WFC Return\n",
       "Date                                                                          \n",
       "2006-01-03         NaN       NaN        NaN         NaN        NaN         NaN\n",
       "2006-01-04   -0.010620 -0.018462  -0.013812   -0.014183   0.000686   -0.011599\n",
       "2006-01-05    0.001288  0.004961  -0.000393    0.003029   0.002742   -0.000951\n",
       "2006-01-06   -0.001501  0.000000   0.014169    0.007046   0.001025    0.005714\n",
       "2006-01-09    0.000644 -0.004731   0.012030    0.016242   0.010586    0.000000"
      ]
     },
     "execution_count": 13,
     "metadata": {},
     "output_type": "execute_result"
    }
   ],
   "source": [
    "for tick in tickers:\n",
    "    returns[tick+' Return'] = bank_stocks[tick]['Close'].pct_change()\n",
    "returns.head()"
   ]
  },
  {
   "cell_type": "markdown",
   "metadata": {},
   "source": [
    "**Create a pairplot using seaborn of the returns dataframe. What stock stands out to you? Can you figure out why?**"
   ]
  },
  {
   "cell_type": "code",
   "execution_count": 14,
   "metadata": {},
   "outputs": [
    {
     "data": {
      "text/plain": [
       "<seaborn.axisgrid.PairGrid at 0x13e0d838af0>"
      ]
     },
     "execution_count": 14,
     "metadata": {},
     "output_type": "execute_result"
    },
    {
     "data": {
      "image/png": "[encoded data removed]",
      "text/plain": [
       "<Figure size 1080x1080 with 42 Axes>"
      ]
     },
     "metadata": {
      "needs_background": "light"
     },
     "output_type": "display_data"
    }
   ],
   "source": [
    "#returns[1:]\n",
    "import seaborn as sns\n",
    "sns.pairplot(returns[1:])"
   ]
  },
  {
   "cell_type": "markdown",
   "metadata": {},
   "source": [
    "* See solution for details about Citigroup behavior...."
   ]
  },
  {
   "cell_type": "markdown",
   "metadata": {},
   "source": [
    "**Using this returns DataFrame, figure out on what dates each bank stock had the best and worst single day returns. You should notice that 4 of the banks share the same day for the worst drop, did anything significant happen that day?**"
   ]
  },
  {
   "cell_type": "code",
   "execution_count": 15,
   "metadata": {},
   "outputs": [
    {
     "data": {
      "text/plain": [
       "BAC Return   2009-01-20\n",
       "C Return     2011-05-06\n",
       "GS Return    2009-01-20\n",
       "JPM Return   2009-01-20\n",
       "MS Return    2008-10-09\n",
       "WFC Return   2009-01-20\n",
       "dtype: datetime64[ns]"
      ]
     },
     "execution_count": 15,
     "metadata": {},
     "output_type": "execute_result"
    }
   ],
   "source": [
    "# Worst Drop (4 of them on Inauguration day)\n",
    "returns.idxmin()"
   ]
  },
  {
   "cell_type": "markdown",
   "metadata": {},
   "source": [
    "**You should have noticed that Citigroup's largest drop and biggest gain were very close to one another, did anythign significant happen in that time frame? **"
   ]
  },
  {
   "cell_type": "markdown",
   "metadata": {},
   "source": [
    "* See Solution for details"
   ]
  },
  {
   "cell_type": "code",
   "execution_count": 16,
   "metadata": {},
   "outputs": [
    {
     "data": {
      "text/plain": [
       "BAC Return   2009-04-09\n",
       "C Return     2011-05-09\n",
       "GS Return    2008-11-24\n",
       "JPM Return   2009-01-21\n",
       "MS Return    2008-10-13\n",
       "WFC Return   2008-07-16\n",
       "dtype: datetime64[ns]"
      ]
     },
     "execution_count": 16,
     "metadata": {},
     "output_type": "execute_result"
    }
   ],
   "source": [
    "# Best Single Day Gain\n",
    "# citigroup stock split in May 2011, but also JPM day after inauguration.\n",
    "returns.idxmax()"
   ]
  },
  {
   "cell_type": "markdown",
   "metadata": {},
   "source": [
    "**Take a look at the standard deviation of the returns, which stock would you classify as the riskiest over the entire time period? Which would you classify as the riskiest for the year 2015?**"
   ]
  },
  {
   "cell_type": "code",
   "execution_count": 17,
   "metadata": {},
   "outputs": [
    {
     "data": {
      "text/plain": [
       "BAC Return    0.036650\n",
       "C Return      0.179969\n",
       "GS Return     0.025346\n",
       "JPM Return    0.027656\n",
       "MS Return     0.037820\n",
       "WFC Return    0.030233\n",
       "dtype: float64"
      ]
     },
     "execution_count": 17,
     "metadata": {},
     "output_type": "execute_result"
    }
   ],
   "source": [
    "returns.std() # Citigroup riskiest"
   ]
  },
  {
   "cell_type": "code",
   "execution_count": 18,
   "metadata": {},
   "outputs": [
    {
     "data": {
      "text/plain": [
       "BAC Return    0.016163\n",
       "C Return      0.015289\n",
       "GS Return     0.014046\n",
       "JPM Return    0.014017\n",
       "MS Return     0.016249\n",
       "WFC Return    0.012591\n",
       "dtype: float64"
      ]
     },
     "execution_count": 18,
     "metadata": {},
     "output_type": "execute_result"
    }
   ],
   "source": [
    "returns.loc['2015-01-01':'2015-12-31'].std() # Very similar risk profiles, but Morgan Stanley or BofA"
   ]
  },
  {
   "cell_type": "markdown",
   "metadata": {},
   "source": [
    "**Create a distplot using seaborn of the 2015 returns for Morgan Stanley**"
   ]
  },
  {
   "cell_type": "code",
   "execution_count": 19,
   "metadata": {},
   "outputs": [
    {
     "data": {
      "text/plain": [
       "<matplotlib.axes._subplots.AxesSubplot at 0x13e11187640>"
      ]
     },
     "execution_count": 19,
     "metadata": {},
     "output_type": "execute_result"
    },
    {
     "data": {
      "image/png": "[encoded data removed]",
      "text/plain": [
       "<Figure size 432x288 with 1 Axes>"
      ]
     },
     "metadata": {
      "needs_background": "light"
     },
     "output_type": "display_data"
    }
   ],
   "source": [
    "sns.distplot(returns.loc['2015-01-01':'2015-12-31']['MS Return'],color='green',bins=100)"
   ]
  },
  {
   "cell_type": "markdown",
   "metadata": {},
   "source": [
    "**Create a distplot using seaborn of the 2008 returns for CitiGroup**"
   ]
  },
  {
   "cell_type": "code",
   "execution_count": 20,
   "metadata": {},
   "outputs": [
    {
     "data": {
      "text/plain": [
       "<matplotlib.axes._subplots.AxesSubplot at 0x13e1276f400>"
      ]
     },
     "execution_count": 20,
     "metadata": {},
     "output_type": "execute_result"
    },
    {
     "data": {
      "image/png": "[encoded data removed]",
      "text/plain": [
       "<Figure size 432x288 with 1 Axes>"
      ]
     },
     "metadata": {
      "needs_background": "light"
     },
     "output_type": "display_data"
    }
   ],
   "source": [
    "sns.distplot(returns.loc['2008-01-01':'2008-12-31']['C Return'],color='red',bins=100)"
   ]
  },
  {
   "cell_type": "markdown",
   "metadata": {},
   "source": [
    "____\n",
    "# More Visualization\n",
    "\n",
    "A lot of this project will focus on visualizations. Feel free to use any of your preferred visualization libraries to try to recreate the described plots below, seaborn, matplotlib, plotly and cufflinks, or just pandas.\n",
    "\n",
    "### Imports"
   ]
  },
  {
   "cell_type": "code",
   "execution_count": 21,
   "metadata": {},
   "outputs": [
    {
     "name": "stdout",
     "output_type": "stream",
     "text": [
      "Collecting package metadata (current_repodata.json): ...working... done\n",
      "Solving environment: ...working... done\n",
      "\n",
      "# All requested packages already installed.\n",
      "\n",
      "\n",
      "Note: you may need to restart the kernel to use updated packages.\n"
     ]
    }
   ],
   "source": [
    "conda install -c plotly plotly"
   ]
  },
  {
   "cell_type": "code",
   "execution_count": 22,
   "metadata": {},
   "outputs": [
    {
     "name": "stdout",
     "output_type": "stream",
     "text": [
      "Collecting package metadata (current_repodata.json): ...working... done\n",
      "Solving environment: ...working... failed with initial frozen solve. Retrying with flexible solve.\n",
      "Solving environment: ...working... failed with repodata from current_repodata.json, will retry with next repodata source.\n",
      "Collecting package metadata (repodata.json): ...working... done\n",
      "Solving environment: ...working... failed with initial frozen solve. Retrying with flexible solve.\n",
      "Solving environment: ...working... \n",
      "Found conflicts! Looking for incompatible packages.\n",
      "This can take several minutes.  Press CTRL-C to abort.\n",
      "failed\n",
      "\n",
      "Note: you may need to restart the kernel to use updated packages.\n"
     ]
    },
    {
     "name": "stderr",
     "output_type": "stream",
     "text": [
      "\n",
      "Building graph of deps:   0%|          | 0/4 [00:00<?, ?it/s]\n",
      "Examining python=3.8:   0%|          | 0/4 [00:00<?, ?it/s]  \n",
      "Examining @/win-64::__win==0=0:  25%|##5       | 1/4 [00:00<00:00,  6.40it/s]\n",
      "Examining @/win-64::__win==0=0:  50%|#####     | 2/4 [00:00<00:00, 12.80it/s]\n",
      "Examining cufflinks:  50%|#####     | 2/4 [00:00<00:00, 12.80it/s]           \n",
      "Examining @/win-64::__archspec==1=x86_64:  75%|#######5  | 3/4 [00:00<00:00, 12.80it/s]\n",
      "Examining @/win-64::__archspec==1=x86_64: 100%|##########| 4/4 [00:00<00:00, 13.60it/s]\n",
      "                                                                                       \n",
      "\n",
      "Determining conflicts:   0%|          | 0/4 [00:00<?, ?it/s]\n",
      "Examining conflict for cufflinks python:   0%|          | 0/4 [00:00<?, ?it/s]\n",
      "                                                                              \n",
      "\n",
      "UnsatisfiableError: The following specifications were found\n",
      "to be incompatible with the existing python installation in your environment:\n",
      "\n",
      "Specifications:\n",
      "\n",
      "  - cufflinks -> python[version='>=3.6,<3.7.0a0']\n",
      "\n",
      "Your python: python=3.8\n",
      "\n",
      "If python is on the left-most side of the chain, that's the version you've asked for.\n",
      "When python appears to the right, that indicates that the thing on the left is somehow\n",
      "not available for the python version you are constrained to. Note that conda will not\n",
      "change your python version to a different minor version unless you explicitly specify\n",
      "that.\n",
      "\n",
      "\n",
      "\n"
     ]
    }
   ],
   "source": [
    "conda install -c dhirschfeld cufflinks"
   ]
  },
  {
   "cell_type": "code",
   "execution_count": 23,
   "metadata": {},
   "outputs": [
    {
     "ename": "ModuleNotFoundError",
     "evalue": "No module named 'cufflinks'",
     "output_type": "error",
     "traceback": [
      "\u001b[1;31m---------------------------------------------------------------------------\u001b[0m",
      "\u001b[1;31mModuleNotFoundError\u001b[0m                       Traceback (most recent call last)",
      "\u001b[1;32m<ipython-input-23-15137553aeca>\u001b[0m in \u001b[0;36m<module>\u001b[1;34m\u001b[0m\n\u001b[0;32m      6\u001b[0m \u001b[1;31m# Optional Plotly Method Imports\u001b[0m\u001b[1;33m\u001b[0m\u001b[1;33m\u001b[0m\u001b[1;33m\u001b[0m\u001b[0m\n\u001b[0;32m      7\u001b[0m \u001b[1;32mimport\u001b[0m \u001b[0mplotly\u001b[0m\u001b[1;33m\u001b[0m\u001b[1;33m\u001b[0m\u001b[0m\n\u001b[1;32m----> 8\u001b[1;33m \u001b[1;32mimport\u001b[0m \u001b[0mcufflinks\u001b[0m \u001b[1;32mas\u001b[0m \u001b[0mcf\u001b[0m\u001b[1;33m\u001b[0m\u001b[1;33m\u001b[0m\u001b[0m\n\u001b[0m\u001b[0;32m      9\u001b[0m \u001b[0mcf\u001b[0m\u001b[1;33m.\u001b[0m\u001b[0mgo_offline\u001b[0m\u001b[1;33m(\u001b[0m\u001b[1;33m)\u001b[0m\u001b[1;33m\u001b[0m\u001b[1;33m\u001b[0m\u001b[0m\n",
      "\u001b[1;31mModuleNotFoundError\u001b[0m: No module named 'cufflinks'"
     ]
    }
   ],
   "source": [
    "import matplotlib.pyplot as plt\n",
    "import seaborn as sns\n",
    "sns.set_style('whitegrid')\n",
    "%matplotlib inline\n",
    "\n",
    "# Optional Plotly Method Imports\n",
    "import plotly\n",
    "import cufflinks as cf\n",
    "cf.go_offline()"
   ]
  },
  {
   "cell_type": "markdown",
   "metadata": {},
   "source": [
    "**Create a line plot showing Close price for each bank for the entire index of time. (Hint: Try using a for loop, or use [.xs](http://pandas.pydata.org/pandas-docs/stable/generated/pandas.DataFrame.xs.html) to get a cross section of the data.)**"
   ]
  },
  {
   "cell_type": "code",
   "execution_count": null,
   "metadata": {},
   "outputs": [],
   "source": [
    "for tick in tickers:\n",
    "    bank_stocks[tick]['Close'].plot(figsize=(12,4),label=tick)\n",
    "plt.legend()"
   ]
  },
  {
   "cell_type": "code",
   "execution_count": null,
   "metadata": {},
   "outputs": [],
   "source": [
    "bank_stocks.xs(key='Close',axis=1,level='Stock Info').plot()"
   ]
  },
  {
   "cell_type": "code",
   "execution_count": null,
   "metadata": {},
   "outputs": [],
   "source": [
    "# plotly\n",
    "bank_stocks.xs(key='Close',axis=1,level='Stock Info').iplot()"
   ]
  },
  {
   "cell_type": "markdown",
   "metadata": {},
   "source": [
    "## Moving Averages\n",
    "\n",
    "Let's analyze the moving averages for these stocks in the year 2008. \n",
    "\n",
    "** Plot the rolling 30 day average against the Close Price for Bank Of America's stock for the year 2008**"
   ]
  },
  {
   "cell_type": "code",
   "execution_count": null,
   "metadata": {},
   "outputs": [],
   "source": [
    "plt.figure(figsize=(12,6))\n",
    "BAC['Close'].ix['2008-01-01':'2009-01-01'].rolling(window=30).mean().plot(label='30 Day Avg')\n",
    "BAC['Close'].ix['2008-01-01':'2009-01-01'].plot(label='BAC CLOSE')\n",
    "plt.legend()"
   ]
  },
  {
   "cell_type": "markdown",
   "metadata": {},
   "source": [
    "** Create a heatmap of the correlation between the stocks Close Price.**"
   ]
  },
  {
   "cell_type": "code",
   "execution_count": null,
   "metadata": {},
   "outputs": [],
   "source": [
    "sns.heatmap(bank_stocks.xs(key='Close',axis=1,level='Stock Info').corr(),annot=True)"
   ]
  },
  {
   "cell_type": "markdown",
   "metadata": {},
   "source": [
    "** Optional: Use seaborn's clustermap to cluster the correlations together:**"
   ]
  },
  {
   "cell_type": "code",
   "execution_count": null,
   "metadata": {},
   "outputs": [],
   "source": [
    "sns.clustermap(bank_stocks.xs(key='Close',axis=1,level='Stock Info').corr(),annot=True)"
   ]
  },
  {
   "cell_type": "code",
   "execution_count": null,
   "metadata": {},
   "outputs": [],
   "source": [
    "close_corr = bank_stocks.xs(key='Close',axis=1,level='Stock Info').corr()\n",
    "close_corr.iplot(kind='heatmap',colorscale='rdylbu')"
   ]
  },
  {
   "cell_type": "markdown",
   "metadata": {},
   "source": [
    "# Part 2 (Optional)\n",
    "\n",
    "In this second part of the project we will rely on the cufflinks library to create some Technical Analysis plots. This part of the project is experimental due to its heavy reliance on the cuffinks project, so feel free to skip it if any functionality is broken in the future."
   ]
  },
  {
   "cell_type": "markdown",
   "metadata": {},
   "source": [
    "**Use .iplot(kind='candle) to create a candle plot of Bank of America's stock from Jan 1st 2015 to Jan 1st 2016.**"
   ]
  },
  {
   "cell_type": "code",
   "execution_count": null,
   "metadata": {},
   "outputs": [],
   "source": [
    "BAC[['Open', 'High', 'Low', 'Close']].ix['2015-01-01':'2016-01-01'].iplot(kind='candle')"
   ]
  },
  {
   "cell_type": "markdown",
   "metadata": {},
   "source": [
    "**Use .ta_plot(study='sma') to create a Simple Moving Averages plot of Morgan Stanley for the year 2015.**"
   ]
  },
  {
   "cell_type": "code",
   "execution_count": null,
   "metadata": {},
   "outputs": [],
   "source": [
    "MS['Close'].ix['2015-01-01':'2016-01-01'].ta_plot(study='sma',periods=[13,21,55],title='Simple Moving Averages')"
   ]
  },
  {
   "cell_type": "markdown",
   "metadata": {},
   "source": [
    "**Use .ta_plot(study='boll') to create a Bollinger Band Plot for Bank of America for the year 2015.**"
   ]
  },
  {
   "cell_type": "code",
   "execution_count": null,
   "metadata": {},
   "outputs": [],
   "source": [
    "BAC['Close'].ix['2015-01-01':'2016-01-01'].ta_plot(study='boll')"
   ]
  },
  {
   "cell_type": "markdown",
   "metadata": {},
   "source": [
    "# Great Job!\n",
    "\n",
    "Definitely a lot of more specific finance topics here, so don't worry if you didn't understand them all! The only thing you should be concerned with understanding are the basic pandas and visualization oeprations."
   ]
  }
 ],
 "metadata": {
  "kernelspec": {
   "display_name": "Python 3",
   "language": "python",
   "name": "python3"
  },
  "language_info": {
   "codemirror_mode": {
    "name": "ipython",
    "version": 3
   },
   "file_extension": ".py",
   "mimetype": "text/x-python",
   "name": "python",
   "nbconvert_exporter": "python",
   "pygments_lexer": "ipython3",
   "version": "3.8.3"
  }
 },
 "nbformat": 4,
 "nbformat_minor": 4
}
